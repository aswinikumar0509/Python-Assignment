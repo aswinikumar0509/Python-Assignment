{
  "nbformat": 4,
  "nbformat_minor": 0,
  "metadata": {
    "colab": {
      "provenance": []
    },
    "kernelspec": {
      "name": "python3",
      "display_name": "Python 3"
    },
    "language_info": {
      "name": "python"
    }
  },
  "cells": [
    {
      "cell_type": "code",
      "execution_count": 1,
      "metadata": {
        "colab": {
          "base_uri": "https://localhost:8080/"
        },
        "id": "OQnm9xDVAQr6",
        "outputId": "317f1b6e-acec-4b87-ba0e-166e78d1215f"
      },
      "outputs": [
        {
          "output_type": "stream",
          "name": "stdout",
          "text": [
            "8\n"
          ]
        }
      ],
      "source": [
        "a = 5\n",
        "b = 3\n",
        "print(a+b)"
      ]
    },
    {
      "cell_type": "code",
      "source": [],
      "metadata": {
        "id": "gHeuLMZ5AVGd"
      },
      "execution_count": null,
      "outputs": []
    },
    {
      "cell_type": "markdown",
      "source": [
        "What is python"
      ],
      "metadata": {
        "id": "BpUsved3AY9J"
      }
    },
    {
      "cell_type": "code",
      "source": [],
      "metadata": {
        "id": "UTYwPJL-AaNS"
      },
      "execution_count": null,
      "outputs": []
    }
  ]
}